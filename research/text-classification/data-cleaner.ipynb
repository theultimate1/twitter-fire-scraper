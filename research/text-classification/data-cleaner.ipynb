{
 "cells": [
  {
   "cell_type": "code",
   "execution_count": 1,
   "metadata": {},
   "outputs": [],
   "source": [
    "import csv\n",
    "import pandas as pd\n",
    "from collections import defaultdict"
   ]
  },
  {
   "cell_type": "code",
   "execution_count": 68,
   "metadata": {},
   "outputs": [],
   "source": [
    "tweets = []\n",
    "mapping = defaultdict(list)\n",
    "with open('incident-related-twitter-dataset/Chicago4C.csv',encoding=\"ISO-8859-1\") as csv_file:\n",
    "    csv_reader = csv.reader(csv_file, delimiter=';')\n",
    "    line_count = 0\n",
    "    for row in csv_reader:\n",
    "        tweets.append(row)\n",
    "for tweet in tweets:\n",
    "    mapping[tweet[2]].append(tweet[1])"
   ]
  },
  {
   "cell_type": "code",
   "execution_count": 89,
   "metadata": {},
   "outputs": [],
   "source": [
    "#append cleaned tweets to training data set.\n",
    "with open('categorized_tweets.csv','a',encoding=\"ISO-8859-1\") as f:\n",
    "    for key in mapping.keys():\n",
    "        for tweet in mapping[key]:\n",
    "            fields = ['1',key,tweet]\n",
    "            writer = csv.writer(f)\n",
    "            writer.writerow(fields)"
   ]
  },
  {
   "cell_type": "code",
   "execution_count": 2,
   "metadata": {},
   "outputs": [],
   "source": [
    "df = pd.read_csv(\"categorized_tweets.csv\", encoding=\"ISO-8859-1\")"
   ]
  }
 ],
 "metadata": {
  "kernelspec": {
   "display_name": "Python 3",
   "language": "python",
   "name": "python3"
  },
  "language_info": {
   "codemirror_mode": {
    "name": "ipython",
    "version": 3
   },
   "file_extension": ".py",
   "mimetype": "text/x-python",
   "name": "python",
   "nbconvert_exporter": "python",
   "pygments_lexer": "ipython3",
   "version": "3.6.8"
  }
 },
 "nbformat": 4,
 "nbformat_minor": 2
}
