{
 "cells": [
  {
   "cell_type": "markdown",
   "metadata": {},
   "source": [
    "This file exists to demonstrate a way to use the CSV-saving feature of our scraper.\n",
    "\n",
    "**Warning: You could be scraping upwards of 10,000 tweets if you run this entire notebook.**"
   ]
  },
  {
   "cell_type": "code",
   "execution_count": 1,
   "metadata": {},
   "outputs": [
    {
     "name": "stdout",
     "output_type": "stream",
     "text": [
      "This prompt is to make sure you know you'll be potentially querying twitter for 10,000 tweets and are okay with that.\n",
      "(y/n)\n",
      " > y\n",
      "Continuing.\n"
     ]
    }
   ],
   "source": [
    "print(\"This prompt is to make sure you know you'll be potentially querying twitter for 10,000 tweets and are okay with that.\")\n",
    "\n",
    "inp = input('(y/n)\\n > ')\n",
    "\n",
    "if inp != 'y':\n",
    "    print(\"Aborted!\")\n",
    "    raise KeyboardInterrupt\n",
    "else:\n",
    "    print(\"Continuing.\")\n"
   ]
  },
  {
   "cell_type": "code",
   "execution_count": 2,
   "metadata": {},
   "outputs": [],
   "source": [
    "# This is to force using installed packages for testing purposes.\n",
    "from __future__ import absolute_import\n",
    "\n",
    "import os\n",
    "\n",
    "from pprint import pprint\n",
    "\n",
    "import numpy as np\n",
    "import matplotlib.pyplot as plt\n",
    "import matplotlib\n",
    "\n",
    "import twitter_fire_scraper\n",
    "from twitter_fire_scraper.scraper import Scraper\n",
    "from twitter_fire_scraper.util import geobox_to_geocode\n",
    "\n",
    "from twitter_fire_scraper.twitter import GEOBOX_CHICAGO\n",
    "\n",
    "from tweepy import Status"
   ]
  },
  {
   "cell_type": "code",
   "execution_count": 3,
   "metadata": {},
   "outputs": [],
   "source": [
    "output_path='output'\n",
    "\n",
    "geocode=geobox_to_geocode(GEOBOX_CHICAGO, \"20mi\")"
   ]
  },
  {
   "cell_type": "code",
   "execution_count": 4,
   "metadata": {},
   "outputs": [
    {
     "name": "stdout",
     "output_type": "stream",
     "text": [
      "You can fill these in yourself and avoid having to use `secrets.json` inside of your home folder.\n",
      "WARNING: API key autodetection is inadvisable.\n"
     ]
    }
   ],
   "source": [
    "# Get a Twitter developer account and get an API key!\n",
    "\n",
    "from twitter_fire_scraper.scraper import Scraper\n",
    "from twitter_fire_scraper.twitter import TwitterAuthentication\n",
    "\n",
    "twauth = TwitterAuthentication(\n",
    "    consumer_key=\"FILL ME IN!\",\n",
    "    consumer_secret=\"FILL ME IN!\",\n",
    "    access_token=\"FILL ME IN!\",\n",
    "    access_token_secret=\"FILL ME IN!\",\n",
    ")\n",
    "\n",
    "print(\"You can fill these in yourself and avoid having to use `secrets.json` inside of your home folder.\")\n",
    "\n",
    "if twauth.consumer_key == \"FILL ME IN!\":\n",
    "    # If they have not set up the twauth variable,\n",
    "    \n",
    "    if not os.path.exists(os.path.expanduser(\"~/secrets.json\")):\n",
    "        # If autodetect of twitter API keys will surely fail,\n",
    "        \n",
    "        print(\n",
    "            \"This demo will not work without either a valid TwitterAuthentication object or a file that has your secrets in it.\")\n",
    "        print(\n",
    "            \"Either make a file at `{}` containing your keys, or put them directly into the TwitterAuthentication object.\".format(\n",
    "                os.path.expanduser(\"~\\\\secrets.json\")))\n",
    "        print(\"Read the README about this to know more.\")\n",
    "        print(\"Aborting!\")\n",
    "        exit(1)\n",
    "    else:\n",
    "        # Autodetectof twitter API keys should work.\n",
    "        twauth = TwitterAuthentication.autodetect_twitter_auth()\n"
   ]
  },
  {
   "cell_type": "code",
   "execution_count": 5,
   "metadata": {},
   "outputs": [],
   "source": [
    "scraper = Scraper(twitter_authentication=twauth)\n",
    "\n",
    "if not os.path.exists(output_path):\n",
    "    os.mkdir(output_path)"
   ]
  },
  {
   "cell_type": "code",
   "execution_count": 6,
   "metadata": {},
   "outputs": [],
   "source": [
    "def print_status(terms, count):\n",
    "    print(\"Saving {} each of {} terms for a total of {} tweets:\".format(count, len(terms), (count*len(terms))))\n",
    "    print('\\n'.join(terms))"
   ]
  },
  {
   "cell_type": "code",
   "execution_count": 7,
   "metadata": {},
   "outputs": [],
   "source": [
    "def scrape_and_save_csv(scraper, csv, terms, count):\n",
    "    if not os.path.isfile(csv):\n",
    "        results = scraper.scrape(terms=terms, count=count, include_retweets=False, geocode=geocode)\n",
    "\n",
    "        scraper.save_statusdict_to_csv(results, csv)\n",
    "\n",
    "        print(\"Results saved to {}\".format(csv))\n",
    "    else:\n",
    "        print(\"CSV already exists at {}!\".format(csv))\n",
    "        print(\"Delete it to grab unrelated tweets again.\")"
   ]
  },
  {
   "cell_type": "markdown",
   "metadata": {},
   "source": [
    "# Scraping\n",
    "\n",
    "The actual scraping happens below this cell."
   ]
  },
  {
   "cell_type": "code",
   "execution_count": 8,
   "metadata": {},
   "outputs": [
    {
     "name": "stdout",
     "output_type": "stream",
     "text": [
      "Saving 20 each of 5 terms for a total of 100 tweets:\n",
      "weather\n",
      "trains\n",
      "congress\n",
      "chicago\n",
      "football\n",
      "CSV already exists at output\\unrelated-terms.csv!\n",
      "Delete it to grab unrelated tweets again.\n"
     ]
    }
   ],
   "source": [
    "unrelated_csv = os.path.join(output_path, 'unrelated-terms.csv')\n",
    "\n",
    "unrelated_terms = {'chicago', 'football', 'weather', 'congress', 'trains'}\n",
    "count = 20\n",
    "\n",
    "print_status(unrelated_terms, count)\n",
    "\n",
    "scrape_and_save_csv(scraper, unrelated_csv, unrelated_terms, count)"
   ]
  },
  {
   "cell_type": "code",
   "execution_count": 9,
   "metadata": {},
   "outputs": [
    {
     "name": "stdout",
     "output_type": "stream",
     "text": [
      "Saving 400 each of 5 terms for a total of 2000 tweets:\n",
      "house fire\n",
      "fire\n",
      "landslide\n",
      "emergency\n",
      "mudslide\n",
      "CSV already exists at output\\disaster-terms.csv!\n",
      "Delete it to grab unrelated tweets again.\n"
     ]
    }
   ],
   "source": [
    "disaster_csv = os.path.join(output_path, 'disaster-terms.csv')\n",
    "\n",
    "disaster_terms = {'fire','house fire', 'landslide', 'mudslide', 'emergency'}\n",
    "count = 400\n",
    "\n",
    "print_status(disaster_terms, count)\n",
    "\n",
    "scrape_and_save_csv(scraper, disaster_csv, disaster_terms, count)"
   ]
  },
  {
   "cell_type": "code",
   "execution_count": 10,
   "metadata": {},
   "outputs": [
    {
     "name": "stdout",
     "output_type": "stream",
     "text": [
      "Saving 200 each of 5 terms for a total of 1000 tweets:\n",
      "house fire\n",
      "apartment fire\n",
      "fire\n",
      "chicago fire\n",
      "cooking fire\n",
      "CSV already exists at output\\fire-related.csv!\n",
      "Delete it to grab unrelated tweets again.\n"
     ]
    }
   ],
   "source": [
    "fire_csv = os.path.join(output_path, 'fire-related.csv')\n",
    "\n",
    "fire_terms = {'fire', 'chicago fire', \n",
    "              'house fire', 'apartment fire',\n",
    "              'cooking fire', }\n",
    "count = 200\n",
    "\n",
    "print_status(fire_terms, count)\n",
    "\n",
    "scrape_and_save_csv(scraper, fire_csv, fire_terms, count)"
   ]
  },
  {
   "cell_type": "code",
   "execution_count": 11,
   "metadata": {},
   "outputs": [
    {
     "name": "stdout",
     "output_type": "stream",
     "text": [
      "Saving 200 each of 5 terms for a total of 1000 tweets:\n",
      "flooding\n",
      "river flood\n",
      "flood waters\n",
      "cooking fire\n",
      "flood\n",
      "CSV already exists at output\\flood-related.csv!\n",
      "Delete it to grab unrelated tweets again.\n"
     ]
    }
   ],
   "source": [
    "flood_csv = os.path.join(output_path, 'flood-related.csv')\n",
    "\n",
    "flood_terms = {'flood', 'flooding', \n",
    "              'flood waters', 'river flood',\n",
    "              'cooking fire', }\n",
    "count = 200\n",
    "\n",
    "print_status(flood_terms, count)\n",
    "\n",
    "scrape_and_save_csv(scraper, flood_csv, flood_terms, count)"
   ]
  }
 ],
 "metadata": {
  "kernelspec": {
   "display_name": "Python 3",
   "language": "python",
   "name": "python3"
  },
  "language_info": {
   "codemirror_mode": {
    "name": "ipython",
    "version": 3
   },
   "file_extension": ".py",
   "mimetype": "text/x-python",
   "name": "python",
   "nbconvert_exporter": "python",
   "pygments_lexer": "ipython3",
   "version": "3.7.2"
  }
 },
 "nbformat": 4,
 "nbformat_minor": 2
}
