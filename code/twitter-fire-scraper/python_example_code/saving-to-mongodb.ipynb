{
 "cells": [
  {
   "cell_type": "markdown",
   "metadata": {},
   "source": [
    "# Saving tweets to a database\n",
    "\n",
    "This demonstrates how easy scraping hundreds of tweets is, and also how easy it is to then save them to a MongoDB database."
   ]
  },
  {
   "cell_type": "code",
   "execution_count": 1,
   "metadata": {},
   "outputs": [],
   "source": [
    "from pymongo import MongoClient\n",
    "\n",
    "import os\n",
    "\n",
    "from pprint import pprint\n",
    "\n",
    "from twitter_fire_scraper.config import Config\n",
    "from twitter_fire_scraper.scraper import Scraper\n",
    "from twitter_fire_scraper.twitter import GEOBOX_CHICAGO\n",
    "from twitter_fire_scraper.util import geobox_to_geocode, flatten_status_dict, save_statuses_dict_to_mongodb"
   ]
  },
  {
   "cell_type": "code",
   "execution_count": 2,
   "metadata": {},
   "outputs": [],
   "source": [
    "# Get a Twitter developer account and get an API key!\n",
    "\n",
    "from twitter_fire_scraper.scraper import Scraper\n",
    "from twitter_fire_scraper.twitter import TwitterAuthentication\n",
    "\n",
    "twauth = TwitterAuthentication(\n",
    "    consumer_key=\"FILL ME IN!\",\n",
    "    consumer_secret=\"FILL ME IN!\",\n",
    "    access_token=\"FILL ME IN!\",\n",
    "    access_token_secret=\"FILL ME IN!\",\n",
    ")\n",
    "\n",
    "print(\"You can fill these in yourself and avoid having to use `secrets.json` inside of your home folder.\")\n",
    "\n",
    "if twauth.consumer_key == \"FILL ME IN!\":\n",
    "    # If they have not set up the twauth variable,\n",
    "    \n",
    "    if not os.path.exists(os.path.expanduser(\"~/secrets.json\")):\n",
    "        # If autodetect of twitter API keys will surely fail,\n",
    "        \n",
    "        print(\n",
    "            \"This demo will not work without either a valid TwitterAuthentication object or a file that has your secrets in it.\")\n",
    "        print(\n",
    "            \"Either make a file at `{}` containing your keys, or put them directly into the TwitterAuthentication object.\".format(\n",
    "                os.path.expanduser(\"~\\\\secrets.json\")))\n",
    "        print(\"Read the README about this to know more.\")\n",
    "        print(\"Aborting!\")\n",
    "        exit(1)\n",
    "    else:\n",
    "        # Autodetectof twitter API keys should work.\n",
    "        twauth = TwitterAuthentication.autodetect_twitter_auth()"
   ]
  },
  {
   "cell_type": "code",
   "execution_count": 3,
   "metadata": {},
   "outputs": [],
   "source": [
    "scraper = Scraper(twitter_authentication=twauth)\n"
   ]
  },
  {
   "cell_type": "markdown",
   "metadata": {},
   "source": [
    "We can also tell our scraper to only look 20mi from Chicago's center.\n",
    "\n",
    "Not everyone uses geotagging, so this will reduce the amount of hits you get."
   ]
  },
  {
   "cell_type": "code",
   "execution_count": 4,
   "metadata": {},
   "outputs": [],
   "source": [
    "radius = \"20mi\"\n",
    "chicago_geocode = geobox_to_geocode(GEOBOX_CHICAGO, radius)"
   ]
  },
  {
   "cell_type": "markdown",
   "metadata": {},
   "source": [
    "So, with a few lines of code we can scrape a large amount of tweets on a list of words."
   ]
  },
  {
   "cell_type": "code",
   "execution_count": 5,
   "metadata": {},
   "outputs": [],
   "source": [
    "terms = {\"fire\", \"condofire\", \"dwellingfire\", \"housefire\", \"fireloss\", \"firedamage\",}"
   ]
  },
  {
   "cell_type": "code",
   "execution_count": 6,
   "metadata": {},
   "outputs": [
    {
     "name": "stdout",
     "output_type": "stream",
     "text": [
      "fireloss       : 2 hits\n",
      "fire           : 200 hits\n",
      "firedamage     : 6 hits\n",
      "{'condofire', 'fireloss', 'fire', 'dwellingfire', 'firedamage', 'housefire'}\n"
     ]
    }
   ],
   "source": [
    "# Scrape results.\n",
    "geotagged_results = scraper.scrape_terms(geocode=chicago_geocode, terms=terms, count=200)\n",
    "\n",
    "for category, statuses in geotagged_results.items():\n",
    "    print(\"{:15s}: {} hits\".format(category, len(statuses)))\n",
    "print(terms)"
   ]
  },
  {
   "cell_type": "markdown",
   "metadata": {},
   "source": [
    "If there are categories with zero hits, then nobody has tweeted at all in a GEOTAGGED tweet about those categories."
   ]
  },
  {
   "cell_type": "markdown",
   "metadata": {},
   "source": [
    "Saving all of those tweets to a database is also made easy."
   ]
  },
  {
   "cell_type": "code",
   "execution_count": 7,
   "metadata": {},
   "outputs": [],
   "source": [
    "mongoclient = MongoClient(\"mongodb://localhost:27017/\")\n",
    "\n",
    "mongodb = mongoclient['saved_tweets_geotagged_chicago']\n",
    "\n",
    "# Save results to mongoDB\n",
    "save_statuses_dict_to_mongodb(geotagged_results, mongodb)"
   ]
  },
  {
   "cell_type": "markdown",
   "metadata": {},
   "source": [
    "At this point, opening MongoDB Compass Community or some other MongoDB database browser will let you see our freshly-scraped tweets!"
   ]
  },
  {
   "cell_type": "markdown",
   "metadata": {},
   "source": [
    "Now, I will contrast this with not searching geotagged tweets. We should get a LOT more."
   ]
  },
  {
   "cell_type": "code",
   "execution_count": 8,
   "metadata": {},
   "outputs": [
    {
     "name": "stderr",
     "output_type": "stream",
     "text": [
      "Rate limit reached. Sleeping for: 502\n"
     ]
    },
    {
     "name": "stdout",
     "output_type": "stream",
     "text": [
      "fireloss       : 4 hits\n",
      "fire           : 200 hits\n",
      "dwellingfire   : 17 hits\n",
      "firedamage     : 126 hits\n",
      "housefire      : 200 hits\n",
      "{'condofire', 'fireloss', 'fire', 'dwellingfire', 'firedamage', 'housefire'}\n"
     ]
    }
   ],
   "source": [
    "not_geotagged_results = scraper.scrape_terms(terms=terms, count=200)\n",
    "\n",
    "for category, statuses in not_geotagged_results.items():\n",
    "    print(\"{:15s}: {} hits\".format(category, len(statuses)))\n",
    "print(terms)"
   ]
  },
  {
   "cell_type": "code",
   "execution_count": 9,
   "metadata": {},
   "outputs": [],
   "source": [
    "mongodb = mongoclient['saved_tweets_not_geotagged']\n",
    "\n",
    "# Save results to mongoDB\n",
    "save_statuses_dict_to_mongodb(not_geotagged_results, mongodb)"
   ]
  },
  {
   "cell_type": "code",
   "execution_count": null,
   "metadata": {},
   "outputs": [],
   "source": []
  }
 ],
 "metadata": {
  "kernelspec": {
   "display_name": "Python 3",
   "language": "python",
   "name": "python3"
  },
  "language_info": {
   "codemirror_mode": {
    "name": "ipython",
    "version": 3
   },
   "file_extension": ".py",
   "mimetype": "text/x-python",
   "name": "python",
   "nbconvert_exporter": "python",
   "pygments_lexer": "ipython3",
   "version": "3.7.2"
  }
 },
 "nbformat": 4,
 "nbformat_minor": 2
}
